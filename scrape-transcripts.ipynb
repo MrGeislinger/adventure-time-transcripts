{
 "cells": [
  {
   "cell_type": "markdown",
   "metadata": {},
   "source": [
    "# Website Transcript Source\n",
    "\n",
    "Transcripts: https://adventuretime.fandom.com/wiki/Category_talk%3ATranscripts"
   ]
  },
  {
   "cell_type": "code",
   "execution_count": null,
   "metadata": {
    "ExecuteTime": {
     "end_time": "2019-07-15T05:06:35.895735Z",
     "start_time": "2019-07-15T05:06:35.758592Z"
    }
   },
   "outputs": [],
   "source": [
    "import requests\n",
    "from bs4 import BeautifulSoup"
   ]
  },
  {
   "cell_type": "markdown",
   "metadata": {},
   "source": [
    "## Getting episode info by season"
   ]
  },
  {
   "cell_type": "code",
   "execution_count": null,
   "metadata": {
    "ExecuteTime": {
     "end_time": "2019-07-15T05:06:36.186937Z",
     "start_time": "2019-07-15T05:06:35.897587Z"
    }
   },
   "outputs": [],
   "source": [
    "# Pulling the source of all transcripts\n",
    "main_page_url = 'https://adventuretime.fandom.com/wiki/Category_talk%3ATranscripts'\n",
    "response = requests.get(main_page_url)\n",
    "soup = BeautifulSoup(response.text, 'html.parser')"
   ]
  },
  {
   "cell_type": "code",
   "execution_count": null,
   "metadata": {
    "ExecuteTime": {
     "end_time": "2019-07-15T05:06:36.193403Z",
     "start_time": "2019-07-15T05:06:36.188539Z"
    }
   },
   "outputs": [],
   "source": [
    "main_page = soup.find(id='mw-content-text')"
   ]
  },
  {
   "cell_type": "code",
   "execution_count": null,
   "metadata": {
    "ExecuteTime": {
     "end_time": "2019-07-15T05:06:36.199637Z",
     "start_time": "2019-07-15T05:06:36.195264Z"
    }
   },
   "outputs": [],
   "source": [
    "def get_episode_info(episode_table_row):\n",
    "    # Table data has 2 parts\n",
    "    table_data = episode_table_row.find_all('td')\n",
    "    a_tag = table_data[0].a\n",
    "    metadata = table_data[1].text\n",
    "    \n",
    "    # link to episode transcript\n",
    "    try:\n",
    "        link = main_page_url\n",
    "        link += a_tag['href'] if a_tag['href'].startswith('/') else '/' + a_tag['href']\n",
    "    except:\n",
    "        link = None\n",
    "        \n",
    "    # title of episode\n",
    "    try:\n",
    "        title = a_tag['title']\n",
    "    except:\n",
    "        title = None\n",
    "    \n",
    "    # Metadata about transcript\n",
    "    try:\n",
    "        created_transcript = metadata.split('/')[0]\n",
    "    except:\n",
    "        created_transcript = None\n",
    "    \n",
    "    # All info\n",
    "    episode_info = {\n",
    "        'metadata': metadata,\n",
    "        'transcript_link': link,\n",
    "        'episode_title': title\n",
    "    }\n",
    "    return episode_info"
   ]
  },
  {
   "cell_type": "code",
   "execution_count": null,
   "metadata": {
    "ExecuteTime": {
     "end_time": "2019-07-15T05:06:36.217738Z",
     "start_time": "2019-07-15T05:06:36.201431Z"
    }
   },
   "outputs": [],
   "source": [
    "#\n",
    "seasons = main_page.find_all('h2')\n",
    "seasons_episodes = main_page.find_all('table', class_='wikitable')\n",
    "\n",
    "#\n",
    "all_seasons = {}\n",
    "k =0\n",
    "for s, eps in zip(seasons, seasons_episodes):\n",
    "    try:\n",
    "        season_name = s.span.text\n",
    "        # Skip over the table headers\n",
    "        episode_rows = eps.find_all('tr')[1:]\n",
    "        all_seasons[season_name] = [get_episode_info(e) for e in episode_rows]\n",
    "    except:\n",
    "        pass\n",
    "    "
   ]
  },
  {
   "cell_type": "code",
   "execution_count": null,
   "metadata": {
    "ExecuteTime": {
     "end_time": "2019-07-15T05:06:36.240092Z",
     "start_time": "2019-07-15T05:06:36.218836Z"
    }
   },
   "outputs": [],
   "source": [
    "# TEST\n",
    "all_seasons\n",
    "\n",
    "# seasons = main_page.find_all('h2')\n",
    "# episodes = main_page.find_all('table', class_='wikitable')\n",
    "# episodes[1]"
   ]
  }
 ],
 "metadata": {
  "kernelspec": {
   "display_name": "Python 3",
   "language": "python",
   "name": "python3"
  },
  "language_info": {
   "codemirror_mode": {
    "name": "ipython",
    "version": 3
   },
   "file_extension": ".py",
   "mimetype": "text/x-python",
   "name": "python",
   "nbconvert_exporter": "python",
   "pygments_lexer": "ipython3",
   "version": "3.7.1"
  },
  "toc": {
   "base_numbering": 1,
   "nav_menu": {},
   "number_sections": true,
   "sideBar": true,
   "skip_h1_title": false,
   "title_cell": "Table of Contents",
   "title_sidebar": "Contents",
   "toc_cell": false,
   "toc_position": {},
   "toc_section_display": true,
   "toc_window_display": false
  },
  "varInspector": {
   "cols": {
    "lenName": 16,
    "lenType": 16,
    "lenVar": 40
   },
   "kernels_config": {
    "python": {
     "delete_cmd_postfix": "",
     "delete_cmd_prefix": "del ",
     "library": "var_list.py",
     "varRefreshCmd": "print(var_dic_list())"
    },
    "r": {
     "delete_cmd_postfix": ") ",
     "delete_cmd_prefix": "rm(",
     "library": "var_list.r",
     "varRefreshCmd": "cat(var_dic_list()) "
    }
   },
   "types_to_exclude": [
    "module",
    "function",
    "builtin_function_or_method",
    "instance",
    "_Feature"
   ],
   "window_display": false
  }
 },
 "nbformat": 4,
 "nbformat_minor": 2
}
