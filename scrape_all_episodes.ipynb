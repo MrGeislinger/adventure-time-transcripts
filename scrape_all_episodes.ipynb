{
 "cells": [
  {
   "cell_type": "markdown",
   "metadata": {
    "toc": true
   },
   "source": [
    "<h1>Table of Contents<span class=\"tocSkip\"></span></h1>\n",
    "<div class=\"toc\"><ul class=\"toc-item\"><li><span><a href=\"#Function-to-Scrape-a-Given-Episode\" data-toc-modified-id=\"Function-to-Scrape-a-Given-Episode-1\"><span class=\"toc-item-num\">1&nbsp;&nbsp;</span>Function to Scrape a Given Episode</a></span></li><li><span><a href=\"#Scrape-All-Episodes\" data-toc-modified-id=\"Scrape-All-Episodes-2\"><span class=\"toc-item-num\">2&nbsp;&nbsp;</span>Scrape All Episodes</a></span></li></ul></div>"
   ]
  },
  {
   "cell_type": "code",
   "execution_count": 27,
   "metadata": {
    "ExecuteTime": {
     "end_time": "2019-08-02T21:56:26.085532Z",
     "start_time": "2019-08-02T21:56:26.083494Z"
    }
   },
   "outputs": [],
   "source": [
    "import numpy as np\n",
    "import pandas as pd\n",
    "import re\n",
    "\n",
    "import requests\n",
    "from bs4 import BeautifulSoup"
   ]
  },
  {
   "cell_type": "markdown",
   "metadata": {},
   "source": [
    "# Function to Scrape a Given Episode"
   ]
  },
  {
   "cell_type": "markdown",
   "metadata": {},
   "source": []
  },
  {
   "cell_type": "code",
   "execution_count": 5,
   "metadata": {
    "ExecuteTime": {
     "end_time": "2019-08-02T21:28:44.578369Z",
     "start_time": "2019-08-02T21:28:44.576011Z"
    }
   },
   "outputs": [],
   "source": [
    "def get_webpage_soup(url, show=False):\n",
    "    '''\n",
    "    Given a webpage URL (transcript) return the soup\n",
    "    '''\n",
    "    response = requests.get(url)\n",
    "    soup = BeautifulSoup(response.text, 'html.parser')\n",
    "    if show:\n",
    "        print(soup.prettify())\n",
    "    return soup"
   ]
  },
  {
   "cell_type": "code",
   "execution_count": 22,
   "metadata": {
    "ExecuteTime": {
     "end_time": "2019-08-02T21:53:58.053116Z",
     "start_time": "2019-08-02T21:53:58.049446Z"
    }
   },
   "outputs": [],
   "source": [
    "def get_line_said_and_action_descriptions(line_str):\n",
    "    '''\n",
    "    Get a line string, then return a tuple of what was said and a list of\n",
    "    action descriptions.\n",
    "    '''\n",
    "    # Defaults\n",
    "    line_said = line_str\n",
    "    action_descriptions = []\n",
    "    \n",
    "    # TODO: Find action descriptions (with RegEx)\n",
    "    \n",
    "    \n",
    "    return (line_said, action_descriptions)"
   ]
  },
  {
   "cell_type": "code",
   "execution_count": 23,
   "metadata": {
    "ExecuteTime": {
     "end_time": "2019-08-02T21:55:12.846468Z",
     "start_time": "2019-08-02T21:55:12.837479Z"
    },
    "code_folding": []
   },
   "outputs": [],
   "source": [
    "def get_data_from_ep_soup(soup):\n",
    "    '''\n",
    "    Given an episode's soup, return data on episode transcript.\n",
    "    '''\n",
    "    # Find all the lines in the episode\n",
    "    transcript_lines = soup.find_all('dl')\n",
    "\n",
    "    # Go over each line in the transcript and clean it up\n",
    "    # Also save person & what is said\n",
    "    lines_with_info = []\n",
    "    for line in transcript_lines:\n",
    "        # Text is found in dd element\n",
    "        line_str = line.find('dd').text.strip()\n",
    "\n",
    "        ## Defining who is saying what\n",
    "        # Test if it's extra info (starts with '[') → 'extra_info'\n",
    "        if(line_str[0] == '['):\n",
    "            person = 'extra_info'\n",
    "        # If not, assume a person → that character's name\n",
    "        else:\n",
    "            split_info = line_str.split(':', maxsplit=1)\n",
    "            person = split_info[0]\n",
    "            line_str = split_info[1].strip()\n",
    "\n",
    "        ## Get any action descriptions and what is said\n",
    "        line_said, action_descriptions = get_line_said_and_action_descriptions(line_str)\n",
    "        \n",
    "            \n",
    "        lines_with_info.append((person, line_said, action_descriptions))\n",
    "    \n",
    "    return lines_with_info"
   ]
  },
  {
   "cell_type": "code",
   "execution_count": 26,
   "metadata": {
    "ExecuteTime": {
     "end_time": "2019-08-02T21:55:33.025477Z",
     "start_time": "2019-08-02T21:55:32.785245Z"
    }
   },
   "outputs": [
    {
     "data": {
      "text/plain": [
       "('Princess Bubblegum', '[Giggles] We used to date. [Applies the serum.]', [])"
      ]
     },
     "execution_count": 26,
     "metadata": {},
     "output_type": "execute_result"
    }
   ],
   "source": [
    "# Test one episode; action descriptions\n",
    "ep_url = 'https://adventuretime.fandom.com/wiki/Slumber_Party_Panic/Transcript'\n",
    "ep_soup = get_webpage_soup(ep_url)\n",
    "ep_data = get_data_from_ep_soup(ep_soup)\n",
    "ep_data[13]"
   ]
  },
  {
   "cell_type": "markdown",
   "metadata": {},
   "source": [
    "Example of what we want to achieve\n",
    "\n",
    "|Original|person_speaking | line_spoken | action_descriptions |\n",
    "|--------| -------------- | ----------- | -------------------- |\n",
    "|Princess Bubblegum: \\[Giggles\\] We used to date. \\[Applies the serum.\\] | Princess       | We used to date. | \\[Gigggles\\],\\[Applies the serum.\\] |"
   ]
  },
  {
   "cell_type": "markdown",
   "metadata": {},
   "source": [
    "# Scrape All Episodes"
   ]
  }
 ],
 "metadata": {
  "kernelspec": {
   "display_name": "Python 3",
   "language": "python",
   "name": "python3"
  },
  "language_info": {
   "codemirror_mode": {
    "name": "ipython",
    "version": 3
   },
   "file_extension": ".py",
   "mimetype": "text/x-python",
   "name": "python",
   "nbconvert_exporter": "python",
   "pygments_lexer": "ipython3",
   "version": "3.6.6"
  },
  "toc": {
   "base_numbering": 1,
   "nav_menu": {},
   "number_sections": true,
   "sideBar": true,
   "skip_h1_title": false,
   "title_cell": "Table of Contents",
   "title_sidebar": "Contents",
   "toc_cell": true,
   "toc_position": {},
   "toc_section_display": true,
   "toc_window_display": true
  },
  "varInspector": {
   "cols": {
    "lenName": 16,
    "lenType": 16,
    "lenVar": 40
   },
   "kernels_config": {
    "python": {
     "delete_cmd_postfix": "",
     "delete_cmd_prefix": "del ",
     "library": "var_list.py",
     "varRefreshCmd": "print(var_dic_list())"
    },
    "r": {
     "delete_cmd_postfix": ") ",
     "delete_cmd_prefix": "rm(",
     "library": "var_list.r",
     "varRefreshCmd": "cat(var_dic_list()) "
    }
   },
   "types_to_exclude": [
    "module",
    "function",
    "builtin_function_or_method",
    "instance",
    "_Feature"
   ],
   "window_display": false
  }
 },
 "nbformat": 4,
 "nbformat_minor": 2
}
